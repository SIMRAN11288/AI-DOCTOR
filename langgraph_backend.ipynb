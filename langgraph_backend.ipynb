{
 "cells": [
  {
   "cell_type": "code",
   "execution_count": 1,
   "id": "efd4ed49",
   "metadata": {},
   "outputs": [],
   "source": [
    "from langgraph.graph import StateGraph,START,END\n",
    "from langchain_google_genai import ChatGoogleGenerativeAI\n",
    "from typing import TypedDict\n",
    "from dotenv import load_dotenv\n",
    "from langchain_core.messages import BaseMessage,HumanMessage\n",
    "from langgraph.checkpoint.memory import MemorySaver\n",
    "from langgraph.graph.message import add_messages\n",
    "from typing_extensions import Annotated"
   ]
  },
  {
   "cell_type": "code",
   "execution_count": 2,
   "id": "1a058643",
   "metadata": {},
   "outputs": [],
   "source": [
    "llm=ChatGoogleGenerativeAI(model=\"gemini-2.0-flash\")\n",
    "class ChatState(TypedDict):\n",
    "    #add on messages\n",
    "    messages:Annotated[list[BaseMessage],add_messages]\n",
    "\n",
    "def start_chat(state:ChatState) -> ChatState:\n",
    "    message=state['messages']\n",
    "    response=llm.invoke(message)\n",
    "    return {'messages': response}\n",
    "check_pointer=MemorySaver()\n",
    "graph=StateGraph(ChatState)"
   ]
  },
  {
   "cell_type": "code",
   "execution_count": 3,
   "id": "d544e736",
   "metadata": {},
   "outputs": [
    {
     "data": {
      "text/plain": [
       "<langgraph.graph.state.StateGraph at 0x1a4cd3809d0>"
      ]
     },
     "execution_count": 3,
     "metadata": {},
     "output_type": "execute_result"
    }
   ],
   "source": [
    "graph.add_node(\"start_chat\",start_chat)\n",
    "graph.add_edge(START,\"start_chat\")\n",
    "graph.add_edge(\"start_chat\",END)"
   ]
  },
  {
   "cell_type": "code",
   "execution_count": 4,
   "id": "6c4c5d95",
   "metadata": {},
   "outputs": [],
   "source": [
    "chatbot=graph.compile(checkpointer=check_pointer)\n",
    "# thread=chatbot.get_state(\"user123\")\n",
    "# chatbot.update_state(\"user123\",{\"messages\":[])\n",
    "thread_ID='user123'"
   ]
  },
  {
   "cell_type": "code",
   "execution_count": 5,
   "id": "3abf345d",
   "metadata": {},
   "outputs": [
    {
     "name": "stdout",
     "output_type": "stream",
     "text": [
      "USER: hi how are you\n",
      "AI: I am doing well, thank you for asking! How are you today?\n",
      "USER: my nae is sam what is your name\n",
      "AI: It's nice to meet you, Sam! I don't have a name. I'm a large language model, and I don't have personal attributes like a name. You can just call me AI or whatever you like. :)\n",
      "USER: stop\n"
     ]
    }
   ],
   "source": [
    "while True:\n",
    "    User_input=input(\"enter your query\")\n",
    "    print(\"USER:\",User_input)\n",
    "    if User_input.strip().lower() in ['end','quit','stop']:\n",
    "        break\n",
    "    config={\"configurable\":{\"thread_id\":thread_ID}}\n",
    "    response=chatbot.invoke({\"messages\":[HumanMessage(content=User_input)]},config=config)\n",
    "    print(\"AI:\", response['messages'][-1].content)\n",
    "    "
   ]
  }
 ],
 "metadata": {
  "kernelspec": {
   "display_name": "langGraph_env",
   "language": "python",
   "name": "python3"
  },
  "language_info": {
   "codemirror_mode": {
    "name": "ipython",
    "version": 3
   },
   "file_extension": ".py",
   "mimetype": "text/x-python",
   "name": "python",
   "nbconvert_exporter": "python",
   "pygments_lexer": "ipython3",
   "version": "3.11.9"
  }
 },
 "nbformat": 4,
 "nbformat_minor": 5
}
